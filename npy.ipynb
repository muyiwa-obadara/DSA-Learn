{
 "cells": [
  {
   "cell_type": "code",
   "execution_count": 1,
   "metadata": {},
   "outputs": [],
   "source": [
    "import numpy as np"
   ]
  },
  {
   "cell_type": "code",
   "execution_count": 4,
   "metadata": {},
   "outputs": [],
   "source": [
    "A = np.random.randint(-10, 10, 18).reshape((3, 6))"
   ]
  },
  {
   "cell_type": "code",
   "execution_count": 5,
   "metadata": {},
   "outputs": [
    {
     "data": {
      "text/plain": [
       "array([[-9,  2, -3, -7, -5, -2],\n",
       "       [-1, -5,  5,  3,  5, -1],\n",
       "       [-7, -5, -7, -2,  1,  3]])"
      ]
     },
     "execution_count": 5,
     "metadata": {},
     "output_type": "execute_result"
    }
   ],
   "source": [
    "A"
   ]
  },
  {
   "cell_type": "code",
   "execution_count": 6,
   "metadata": {},
   "outputs": [],
   "source": [
    "A_transpose = A.T"
   ]
  },
  {
   "cell_type": "code",
   "execution_count": 8,
   "metadata": {},
   "outputs": [
    {
     "data": {
      "text/plain": [
       "array([[-9, -1, -7],\n",
       "       [ 2, -5, -5],\n",
       "       [-3,  5, -7],\n",
       "       [-7,  3, -2],\n",
       "       [-5,  5,  1],\n",
       "       [-2, -1,  3]])"
      ]
     },
     "execution_count": 8,
     "metadata": {},
     "output_type": "execute_result"
    }
   ],
   "source": [
    "A_transpose"
   ]
  },
  {
   "cell_type": "code",
   "execution_count": 11,
   "metadata": {},
   "outputs": [
    {
     "data": {
      "text/plain": [
       "array([[172, -60,  77],\n",
       "       [-60,  86,  -7],\n",
       "       [ 77,  -7, 137]])"
      ]
     },
     "execution_count": 11,
     "metadata": {},
     "output_type": "execute_result"
    }
   ],
   "source": [
    "A.dot(A_transpose)"
   ]
  },
  {
   "cell_type": "code",
   "execution_count": 12,
   "metadata": {},
   "outputs": [
    {
     "data": {
      "text/plain": [
       "array([[131,  22,  71,  74,  33,  -2],\n",
       "       [ 22,  54,   4, -19, -40, -14],\n",
       "       [ 71,   4,  83,  50,  33, -20],\n",
       "       [ 74, -19,  50,  62,  48,   5],\n",
       "       [ 33, -40,  33,  48,  51,   8],\n",
       "       [ -2, -14, -20,   5,   8,  14]])"
      ]
     },
     "execution_count": 12,
     "metadata": {},
     "output_type": "execute_result"
    }
   ],
   "source": [
    "A_transpose.dot(A)"
   ]
  },
  {
   "cell_type": "markdown",
   "metadata": {},
   "source": [
    "Generally, $A^T \\times A \\ne A \\times A^T$, the only exception in the $\\Re$ field is when $A$ is a symetric matrix. For a symetric matrix, $A^T = A$, and in this case, $A$ must be a square matrix.\n",
    "\n",
    "An example of a symetric matrix is:\n",
    "\\begin{equation}\n",
    "    A = \\left(\n",
    "        \\begin{matrix}\n",
    "            2&3&5\\\\\n",
    "            3&5&6\\\\\n",
    "            5&6&1\\\\\n",
    "        \\end{matrix}\n",
    "    \\right)\n",
    "\\end{equation}"
   ]
  },
  {
   "cell_type": "code",
   "execution_count": 13,
   "metadata": {},
   "outputs": [],
   "source": [
    "B = np.array(\n",
    "    [[2, 3, 5],\n",
    "    [3, 4, 6],\n",
    "    [5, 6, 1]]\n",
    ")\n",
    "\n",
    "B_transpose = B.T"
   ]
  },
  {
   "cell_type": "code",
   "execution_count": 14,
   "metadata": {},
   "outputs": [
    {
     "data": {
      "text/plain": [
       "array([[38, 48, 33],\n",
       "       [48, 61, 45],\n",
       "       [33, 45, 62]])"
      ]
     },
     "execution_count": 14,
     "metadata": {},
     "output_type": "execute_result"
    }
   ],
   "source": [
    "B.dot(B_transpose)"
   ]
  },
  {
   "cell_type": "code",
   "execution_count": 15,
   "metadata": {},
   "outputs": [
    {
     "data": {
      "text/plain": [
       "array([[38, 48, 33],\n",
       "       [48, 61, 45],\n",
       "       [33, 45, 62]])"
      ]
     },
     "execution_count": 15,
     "metadata": {},
     "output_type": "execute_result"
    }
   ],
   "source": [
    "B_transpose.dot(B)"
   ]
  },
  {
   "cell_type": "code",
   "execution_count": null,
   "metadata": {},
   "outputs": [],
   "source": []
  }
 ],
 "metadata": {
  "kernelspec": {
   "display_name": "env",
   "language": "python",
   "name": "python3"
  },
  "language_info": {
   "codemirror_mode": {
    "name": "ipython",
    "version": 3
   },
   "file_extension": ".py",
   "mimetype": "text/x-python",
   "name": "python",
   "nbconvert_exporter": "python",
   "pygments_lexer": "ipython3",
   "version": "3.10.12"
  }
 },
 "nbformat": 4,
 "nbformat_minor": 2
}
